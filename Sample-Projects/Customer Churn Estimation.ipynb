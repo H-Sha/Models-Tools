{
 "cells": [
  {
   "cell_type": "markdown",
   "metadata": {},
   "source": [
    "#Implementation of the Beta-Geometric (BG) Customer Lifetime Value Model\n",
    "\n",
    "The model was created by Peter Fader and Bruce Hardie and described in \"__An Introduction to Probability Models\n",
    "for Marketing Research__\", *2014-06-22*, http://www.brucehardie.com/talks/ho_intro_tut_art_14.pdf\n",
    "\n",
    "The model assumes a customer population is described by a distribution of static churn rates. Each period remaining \n",
    "customers churn with a probability equal to their original churn propensity, ie. no loyalty effect. The model is fit via MLE (Maximum Likelihood Estimation), with outputs as beta distribution parameters, gamma and delta, that characterize the initial population.\n",
    "\n",
    "The model is implemented via several reusable functions. \n",
    "- '__FormatBGData__' puts the data into a descriptive dataframe.\n",
    "- '__FitBGModel__' fits the data to a BG distribution. The workhorse is the scipy minimize function, we supply a\n",
    "subfunction that outputs the negative log-likelihood of the model parameters.\n",
    "- '__ExtrapolateBG__' accepts model parameters and calculates model-implied remaining customers for a desired number of\n",
    "periods\n",
    "\n",
    "-----------\n",
    "####Sample Usage:\n",
    "RawData = [1000,631,468,382,326]\n",
    "\n",
    "Data = FormatBGData(RawData)\n",
    "\n",
    "(Gamma, Delta) = FitBGModel(Data)\n",
    "\n",
    "Output = ExtrapolateBG(1000, Gamma, Delta, 15)\n",
    "\n",
    "-----------\n",
    "\n",
    "### We import the required packages upfront"
   ]
  },
  {
   "cell_type": "code",
   "execution_count": 1,
   "metadata": {
    "collapsed": false
   },
   "outputs": [],
   "source": [
    "import numpy as np\n",
    "import pandas as pd\n",
    "import scipy.special as special\n",
    "import scipy.optimize as optimize\n",
    "from IPython.display import display, HTML\n",
    "import matplotlib.pyplot as plt\n",
    "%matplotlib inline\n",
    "import seaborn as sn"
   ]
  },
  {
   "cell_type": "markdown",
   "metadata": {},
   "source": [
    "###Format remaining customer data into a descriptive dataframe\n",
    "\n",
    "####Parameters:\n",
    "- RawRemaining: list of int or float\n",
    "\n",
    "####Output:\n",
    "- Dataframe, starting from t=1, with columns:\n",
    "\n",
    "    * Remaining: float - copy of raw input data, number of customer remaining at start of corresponding period\n",
    "    - Cust_Lost: float - calculation of number of customers lost by the start of corresponding period\n",
    "    - Period: int - corresponding period\n",
    "    - Final_Period: 0 or 1 - to indicate whether corresponding period is the final period of raw data\n",
    "\n",
    "####Notes:\n",
    "- RawRemaining list should contain the number of remaining current customers for time t=0,1,2, etc. The time intervals\n",
    "must be evenly spaced and must include the number of initial customers, ie. t=0\n",
    "\n",
    "####Sample Usage:\n",
    "RawData = [1000,631,468,382,326]\n",
    "Data = FormatBGData(RawData)"
   ]
  },
  {
   "cell_type": "code",
   "execution_count": 2,
   "metadata": {
    "collapsed": false
   },
   "outputs": [],
   "source": [
    "def FormatBGData(RawRemaining):\n",
    "    \n",
    "    Data = pd.DataFrame(RawRemaining, columns=['Remaining'])\n",
    "    Data['Cust_Lost'] = pd.DataFrame(-1*Data.diff().fillna(0))\n",
    "    Data['Period'] = np.arange(len(Data))\n",
    "    Data['Final_Period']=0\n",
    "    Data.ix[len(Data)-1,'Final_Period']=1\n",
    "    Data = Data[Data.Period != 0]\n",
    "    \n",
    "    return Data\n",
    "\n",
    "# Usage\n",
    "RawData = [1000,631,468,382,326]\n",
    "Data = FormatBGData(RawData)"
   ]
  },
  {
   "cell_type": "markdown",
   "metadata": {},
   "source": [
    "###Calculate parameters of initial BG distribution that maximize likelihood of data. \n",
    "\n",
    "Format of probability and log-likelihood function taken from p.34-38 of Fader & Hardie (2014) listed above.\n",
    "\n",
    "####Parameters:\n",
    "- Data: dataframe - dataframe of the format created via the FormatBGData function\n",
    "\n",
    "####Output:\n",
    "- Gamma: float - maximum likelihood Gamma estimate\n",
    "- Delta: float - maximum likelihood Delta estimate\n",
    "\n",
    "####Notes:\n",
    "The function uses a sub-function to calculate the negative log-likelihood of the data. \n",
    "\n",
    "####Sample Usage:\n",
    "FitBGModel(Data)"
   ]
  },
  {
   "cell_type": "code",
   "execution_count": 3,
   "metadata": {
    "collapsed": false
   },
   "outputs": [],
   "source": [
    "def FitBGModel(Data):\n",
    "\n",
    "    def NLogL(Params, Data):\n",
    "        (Gamma, Delta) = Params\n",
    "        LogLikelihood = Data['Cust_Lost'] * np.log(special.beta(Gamma + 1, Delta + Data['Period'] - 1) / special.beta(Gamma, Delta)) + (Data['Final_Period'] * (Data['Remaining'] * np.log(special.beta(Gamma, Delta + Data['Period']) / special.beta(Gamma, Delta))))    \n",
    "        return -sum(LogLikelihood)\n",
    "\n",
    "    return optimize.minimize(NLogL, (1,1), method = 'Nelder-Mead',args = (Data,)).x\n",
    "\n",
    "# Usage\n",
    "(Gamma, Delta) = FitBGModel(Data)"
   ]
  },
  {
   "cell_type": "markdown",
   "metadata": {},
   "source": [
    "###Calculates model-implied remaining population\n",
    "\n",
    "####Parameters:\n",
    "- Initial_Pop: float - size of initial customer population\n",
    "- Gamma: float - desired Gamma value of BG distribution to predict\n",
    "- Delta: float - desired Delta value of BG distribution to predict\n",
    "- Model_Periods: int - number of periods to calculate\n",
    "\n",
    "####Output:\n",
    "- Dataframe, starting from t=1, with columns:\n",
    "    - Remaining: float - model-calculated number of customers, remaining at start of corresponding period\n",
    "    - Cust_Lost: float - model-calculated number of customers lost by the start of corresponding period\n",
    "\n",
    "####Sample Usage:\n",
    "Initial_Pop = Data.ix[1,'Remaining'] + Data.ix[1,'Cust_Lost']\n",
    "Output = Forecast(Initial_Pop, Gamma, Delta, 15)"
   ]
  },
  {
   "cell_type": "code",
   "execution_count": 4,
   "metadata": {
    "collapsed": false
   },
   "outputs": [],
   "source": [
    "def ExtrapolateBG(Initial_Pop, Gamma, Delta,Model_Periods):\n",
    "\n",
    "    Output = pd.DataFrame({'Cust_Lost' : special.beta(Gamma+1, Delta + np.arange(1,Model_Periods+1) -1)/special.beta(Gamma, Delta)},\n",
    "                         index=np.arange(1,Model_Periods+1))\n",
    "    Output['Cust_Lost'] = Output['Cust_Lost'].cumsum() * Initial_Pop\n",
    "    Output['Remaining'] = Initial_Pop - Output['Cust_Lost']\n",
    "\n",
    "    return Output\n",
    "\n",
    "# Usage\n",
    "Initial_Pop = Data.ix[1,'Remaining'] + Data.ix[1,'Cust_Lost']\n",
    "Output = ExtrapolateBG(Initial_Pop, Gamma, Delta, 15)"
   ]
  },
  {
   "cell_type": "markdown",
   "metadata": {},
   "source": [
    "####Plot Model Fit\n",
    "We plot the actual and predicted remaining customers below. Number of periods is along the x-axis, and Number of Remaining Customers is along the y-axis. Solid green line is actual customers, dashed blue is predicted customers"
   ]
  },
  {
   "cell_type": "code",
   "execution_count": 5,
   "metadata": {
    "collapsed": false
   },
   "outputs": [
    {
     "data": {
      "text/plain": [
       "<matplotlib.axes._subplots.AxesSubplot at 0x1038649d0>"
      ]
     },
     "execution_count": 5,
     "metadata": {},
     "output_type": "execute_result"
    },
    {
     "data": {
      "image/png": "[encoded data removed]",
      "text/plain": [
       "<matplotlib.figure.Figure at 0x10eebb410>"
      ]
     },
     "metadata": {},
     "output_type": "display_data"
    }
   ],
   "source": [
    "sn.set(color_codes=True)\n",
    "Output['Remaining'].plot(linestyle='dashed')\n",
    "Data['Remaining'].plot()"
   ]
  }
 ],
 "metadata": {
  "kernelspec": {
   "display_name": "Python 2",
   "language": "python",
   "name": "python2"
  },
  "language_info": {
   "codemirror_mode": {
    "name": "ipython",
    "version": 2
   },
   "file_extension": ".py",
   "mimetype": "text/x-python",
   "name": "python",
   "nbconvert_exporter": "python",
   "pygments_lexer": "ipython2",
   "version": "2.7.11"
  }
 },
 "nbformat": 4,
 "nbformat_minor": 0
}
