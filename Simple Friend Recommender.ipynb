{
 "cells": [
  {
   "cell_type": "markdown",
   "metadata": {},
   "source": [
    "#Predicting Friends\n",
    "\n",
    "###Approach\n",
    "We search for friends by looking at two degrees of separation (i.e. friends of friends only). We score candidates by number of common friends, then by their overall popularity (i.e. their total number of friends). Underling both selection and scoring criteria we assume a transitive property of friendship. This too can be tested. \n",
    "\n",
    "We decompose the problem into several steps. We first create a friend dictionary. The dictionary is a suitable data structure because it allows for quick key-lookup, and we do not require the list to be ordered.\n",
    " \n",
    "In step 2 we create a universe of possible candidates. When we retrieve friend lists we convert them into sets. Sets provide efficient difference operations, and remove duplicates. We identify friends of friends not already our friends.\n",
    "\n",
    "In step 3 we score the candidates. We consider number of friends in common, and candidate’s total number of friends (as a proxy for popularity, more friends is thought of as better)\n",
    "\n",
    "We have tried to keep the code lean and readable. For simplicity we have not addressed all use cases, ie. requesting more friend recommendations than within 2-degree circles. We currently return min(5,candidates in universe) candidates. \n",
    "\n",
    "Coding and ways of storing data could be optimized as our scoring algorithm grows in sophistication, but also upon integration with existing processes, ie. if a friend dictionary already exists, etc. \n",
    "\n",
    "###Improvements\n",
    "__Universe Selection:__ Candidate universe selection is done only for efficiency; it is time-consuming to run our scoring algorithm on the entire population, so we identify a subset. Ideally if we ran our scoring algorithm on the entire population we should do no better than on our narrower universe.\n",
    "\n",
    "We can broaden the candidate selection method by considering higher degrees of relational separation. Doing this may yield better results especially when making suggestions for poorly-connected users. Characteristics like location and age group can equally help guide the direction in which to expand our universe.\n",
    "\n",
    "__Candidate Scoring:__ We could give more weight to relationships that transact together more frequently, and are in the same location. A third-degree connection with whom a second-degree connection often transacts may merit a higher score than a stale second-degree one. Further research & testing would need to inform the degree to which this is true.\n",
    "\n",
    "We could give more weight to recent transactions; we could also give more weight to newly formed relationships (e.g. a new person joining the social circle). These again are hypotheses we could test.\n",
    "\n",
    "We can also look at directionality, who added whom first? who initiates payment and request payments more? Are these ‘*initiaters*’ more receptive to finding new friends than passive friend/payment accepters?\n",
    "\n",
    "Social networks often look like dense clusters joined together by connectors. Helping bridge these clusters could open up entirely new friend circles. Identifying points of traction without seeming arbitrary and haphazard is difficult, but promising.\n",
    "\n",
    "Popularity as a measure of candidacy could conceivably work in the opposite direction, and for a opposite of reasons – a Candidate B who shares all of our user’s friends and himself has no other friends may be a better potential friend than Candidate C who has all of our user’s friends and 2000 more (or maybe our user already knows Candidate B -- B has no other friends, recall -- and they are in fact enemies, but maybe once Candidate B has at least 20 not-common friends things change …). \n",
    "\n",
    "###Summary\n",
    "*We search for friend candidates by looking at two degrees of seperation (ie. friends of friends only). We \n",
    "score candidates by number of common friends, and then by their overall popularity (ie. their total number of friends).*\n",
    "\n",
    "The model is implemented via several helper functions. \n",
    "- 'recommend_friend' takes a user_id and outputs a list of 5 recommendations. It uses the 3 functions below\n",
    "- 'populate_dict' takes a pair of friends and appends each to the dict item for that user\n",
    "- 'identify_candidates' takes a user id and a friend dictionary and identifies all connections with two degrees of \n",
    "  seperation. We populate a list of friends of friends and remove existing friends to create our universe\n",
    "- 'score_candidates' accepts a user id a list of candidates and scores each of the candidates with respect to the user.\n",
    "  We score candidates based on the number of common friends, and their total number of friends\n",
    "\n",
    "Sample Usage:\n",
    "recommend_friend(59003)\n",
    "\n",
    "\n",
    "-----------\n",
    "###Composite function to calculate friend recommendations\n",
    "\n",
    "####The function:\n",
    "- populates a dictionary using pairwise friend combinations\n",
    "- identifies friend candidates\n",
    "- scores candidates and returns top 5 recommendations"
   ]
  },
  {
   "cell_type": "code",
   "execution_count": null,
   "metadata": {
    "collapsed": true
   },
   "outputs": [],
   "source": [
    "def recommend_friend(user_id, recommendations = 5, raw_data=raw_data):\n",
    "    \n",
    "    friend_dict = dict()\n",
    "    map(lambda x,y: populate_dict(x,y,friend_dict),raw_data.ix[:,0], raw_data.ix[:,1])   # populate dictionary\n",
    "    \n",
    "    friend_candidates = identify_candidates(user_id,friend_dict)\n",
    "    \n",
    "    scored_candidates = score_candidates(user_id, friend_candidates,friend_dict)\n",
    "\n",
    "    return scored_candidates.sort_values(['common_friends', 'number_friends'], ascending = [0,0])[:recommendations]"
   ]
  },
  {
   "cell_type": "markdown",
   "metadata": {},
   "source": [
    "-----------\n",
    "###Populate a dictionary symmetrically with a given pair of values"
   ]
  },
  {
   "cell_type": "code",
   "execution_count": null,
   "metadata": {
    "collapsed": true
   },
   "outputs": [],
   "source": [
    "def populate_dict(friend_a,friend_b,dict):\n",
    "\n",
    "    if not friend_a in dict:\n",
    "        dict[friend_a] = [friend_b]\n",
    "    else:\n",
    "        dict[friend_a].append(friend_b)\n",
    "        \n",
    "    if not friend_b in dict:\n",
    "        dict[friend_b] = [friend_a]\n",
    "    else:\n",
    "        dict[friend_b].append(friend_a)"
   ]
  },
  {
   "cell_type": "markdown",
   "metadata": {},
   "source": [
    "-----------\n",
    "###Identify all first-order connections not currently friends\n",
    "\n",
    "*Notes:\n",
    "- if a poorly connected user is selected, or too high a recommendation count is set, the candidate universe may \n",
    "be too small. It can be increased by increasing to higher degrees of seperation, or randomly selecting candidates.\n",
    "This functionality has not been incorporated*"
   ]
  },
  {
   "cell_type": "code",
   "execution_count": null,
   "metadata": {
    "collapsed": true
   },
   "outputs": [],
   "source": [
    "def identify_candidates(friend_id,friend_dict):\n",
    "    \n",
    "    immediate_friends = friend_dict[friend_id]\n",
    "    \n",
    "    # populate first-order connections, including duplicates, and self\n",
    "    friends_of_friends =[]\n",
    "    for friend in immediate_friends:\n",
    "        friends_of_friends.extend(friend_dict[friend])\n",
    "\n",
    "    # remove duplicates, existing friends, and self\n",
    "    friends_of_friends_Set = set(friends_of_friends)\n",
    "    immediate_friends_Set = set(immediate_friends)\n",
    "    unconnected_FoF = friends_of_friends_Set - immediate_friends_Set\n",
    "    unconnected_FoF.discard(friend_id)\n",
    "\n",
    "    return list(unconnected_FoF)"
   ]
  },
  {
   "cell_type": "markdown",
   "metadata": {},
   "source": [
    "-----------\n",
    "###Score friend candidates based on:\n",
    "- # of common friends;\n",
    "- popularity (# of total friends)"
   ]
  },
  {
   "cell_type": "code",
   "execution_count": 15,
   "metadata": {
    "collapsed": false
   },
   "outputs": [],
   "source": [
    "def score_candidates(person_id, candidate_list,friend_dict):\n",
    "\n",
    "    person_a_friends = set(friend_dict[person_id])\n",
    "    \n",
    "    def pairwise_score(person_b):\n",
    "\n",
    "        person_b_friends = set(friend_dict[person_b])\n",
    "        \n",
    "        common_friends = len(person_a_friends & person_b_friends)\n",
    "        person_b_number_friends = len(person_b_friends)\n",
    "        \n",
    "        return common_friends, person_b_number_friends\n",
    "\n",
    "    candidates = pd.DataFrame(candidate_list, columns={'candidate_id'})\n",
    "    candidates['common_friends'], candidates['number_friends'] = zip(*candidates['candidate_id'].map(pairwise_score))\n",
    "              \n",
    "    return candidates"
   ]
  },
  {
   "cell_type": "markdown",
   "metadata": {},
   "source": [
    "-----------\n",
    "###Sample Output"
   ]
  },
  {
   "cell_type": "code",
   "execution_count": 16,
   "metadata": {
    "collapsed": false
   },
   "outputs": [
    {
     "data": {
      "text/html": [
       "<div>\n",
       "<table border=\"1\" class=\"dataframe\">\n",
       "  <thead>\n",
       "    <tr style=\"text-align: right;\">\n",
       "      <th></th>\n",
       "      <th>candidate_id</th>\n",
       "      <th>common_friends</th>\n",
       "      <th>number_friends</th>\n",
       "    </tr>\n",
       "  </thead>\n",
       "  <tbody>\n",
       "    <tr>\n",
       "      <th>12267</th>\n",
       "      <td>65105</td>\n",
       "      <td>40</td>\n",
       "      <td>113</td>\n",
       "    </tr>\n",
       "    <tr>\n",
       "      <th>11668</th>\n",
       "      <td>63576</td>\n",
       "      <td>37</td>\n",
       "      <td>132</td>\n",
       "    </tr>\n",
       "    <tr>\n",
       "      <th>7019</th>\n",
       "      <td>50312</td>\n",
       "      <td>36</td>\n",
       "      <td>140</td>\n",
       "    </tr>\n",
       "    <tr>\n",
       "      <th>8682</th>\n",
       "      <td>55135</td>\n",
       "      <td>34</td>\n",
       "      <td>238</td>\n",
       "    </tr>\n",
       "    <tr>\n",
       "      <th>4879</th>\n",
       "      <td>45619</td>\n",
       "      <td>32</td>\n",
       "      <td>135</td>\n",
       "    </tr>\n",
       "  </tbody>\n",
       "</table>\n",
       "</div>"
      ],
      "text/plain": [
       "       candidate_id  common_friends  number_friends\n",
       "12267         65105              40             113\n",
       "11668         63576              37             132\n",
       "7019          50312              36             140\n",
       "8682          55135              34             238\n",
       "4879          45619              32             135"
      ]
     },
     "execution_count": 16,
     "metadata": {},
     "output_type": "execute_result"
    }
   ],
   "source": [
    "import pandas as pd\n",
    "raw_data = pd.read_csv('raw_data.csv', header=0)\n",
    "recommend_friend(59003)"
   ]
  }
 ],
 "metadata": {
  "kernelspec": {
   "display_name": "Python 2",
   "language": "python",
   "name": "python2"
  },
  "language_info": {
   "codemirror_mode": {
    "name": "ipython",
    "version": 2
   },
   "file_extension": ".py",
   "mimetype": "text/x-python",
   "name": "python",
   "nbconvert_exporter": "python",
   "pygments_lexer": "ipython2",
   "version": "2.7.11"
  }
 },
 "nbformat": 4,
 "nbformat_minor": 0
}
